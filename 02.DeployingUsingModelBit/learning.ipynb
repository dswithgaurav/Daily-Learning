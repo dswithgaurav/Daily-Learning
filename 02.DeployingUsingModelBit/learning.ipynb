{
 "cells": [
  {
   "cell_type": "markdown",
   "id": "0e3e7892",
   "metadata": {},
   "source": [
    "### ModelBit Deployment Demo"
   ]
  },
  {
   "cell_type": "code",
   "execution_count": 55,
   "id": "6ed99b66",
   "metadata": {},
   "outputs": [],
   "source": [
    "# !pip install modelbit"
   ]
  },
  {
   "cell_type": "code",
   "execution_count": null,
   "id": "4867f193",
   "metadata": {},
   "outputs": [],
   "source": [
    "import modelbit\n",
    "mb = modelbit.login()"
   ]
  },
  {
   "cell_type": "markdown",
   "id": "490df090",
   "metadata": {},
   "source": [
    "### Train the ML Model"
   ]
  },
  {
   "cell_type": "code",
   "execution_count": null,
   "id": "cf793433",
   "metadata": {},
   "outputs": [],
   "source": [
    "import pandas as pd\n",
    "from sklearn.model_selection import train_test_split\n",
    "from sklearn.linear_model import LogisticRegression\n",
    "from sklearn.metrics import accuracy_score\n",
    "\n",
    "# Sample dataset\n",
    "data = {\n",
    "    'Age': [22, 25, 47, 52, 46, 56, 55, 60],\n",
    "    'Salary': [20000, 25000, 47000, 52000, 48000, 60000, 58000, 62000],\n",
    "    'Bought': [0, 0, 1, 1, 1, 1, 1, 1]  # 1 = Bought, 0 = Not Bought\n",
    "}\n",
    "df = pd.DataFrame(data)\n",
    "\n",
    "# Features and labels\n",
    "X = df[['Age', 'Salary']]\n",
    "y = df['Bought']\n",
    "\n",
    "# Split into train and test\n",
    "X_train, X_test, y_train, y_test = train_test_split(X, y, test_size=0.2, random_state=42)\n",
    "\n",
    "# Train model\n",
    "model = LogisticRegression()\n",
    "model.fit(X_train, y_train)\n",
    "\n",
    "# Predict and evaluate\n",
    "y_pred = model.predict(X_test)\n",
    "print(\"Predictions:\", y_pred)\n",
    "print(\"Accuracy:\", accuracy_score(y_test, y_pred))"
   ]
  },
  {
   "cell_type": "markdown",
   "id": "429f76ab",
   "metadata": {},
   "source": [
    "### Define the Inference Function"
   ]
  },
  {
   "cell_type": "code",
   "execution_count": null,
   "id": "52e88503",
   "metadata": {},
   "outputs": [],
   "source": [
    "def my_lr_deployement(input_x:list):\n",
    "      \n",
    "    if isinstance(input_x, (int, float)):    # check input type\n",
    "        return model.predict([input_x])[0] # prediction\n",
    "        \n",
    "    else:\n",
    "        return None"
   ]
  },
  {
   "cell_type": "markdown",
   "id": "6b73ca69",
   "metadata": {},
   "source": [
    "### Deploy the Model"
   ]
  },
  {
   "cell_type": "code",
   "execution_count": null,
   "id": "b0ee4d01",
   "metadata": {},
   "outputs": [],
   "source": [
    "mb.deploy(my_lr_deployement, \n",
    "\n",
    "          python_packages = [\"scikit-learn==1.1.3\"],\n",
    "\n",
    "          python_version  = \"3.11\")"
   ]
  },
  {
   "cell_type": "markdown",
   "id": "bf6d4263",
   "metadata": {},
   "source": [
    "### Getting the EndPoint"
   ]
  },
  {
   "cell_type": "code",
   "execution_count": null,
   "id": "f8ee30cb",
   "metadata": {},
   "outputs": [],
   "source": [
    "import json"
   ]
  },
  {
   "cell_type": "code",
   "execution_count": null,
   "id": "4f883de2",
   "metadata": {},
   "outputs": [],
   "source": [
    "modelbit.get_inference(\n",
    "  region=\"us-east-1.aws\",\n",
    "  workspace=\"gauravkandel\",\n",
    "  deployment=\"my_lr_deployement\",\n",
    "  version=4,\n",
    "  data=[[10,20]]\n",
    ")"
   ]
  },
  {
   "cell_type": "code",
   "execution_count": null,
   "id": "2cbf6e00",
   "metadata": {},
   "outputs": [],
   "source": [
    "!curl -s -XPOST \"https://gauravkandel.us-east-1.aws.modelbit.com/v1/my_lr_deployement/latest\" -d '{\"data\": [[20,20000]]}' | json_pp"
   ]
  },
  {
   "cell_type": "code",
   "execution_count": null,
   "id": "3b35f5b4",
   "metadata": {},
   "outputs": [],
   "source": [
    "mb.add_model(\"first_model\",model)"
   ]
  },
  {
   "cell_type": "code",
   "execution_count": null,
   "id": "b3af0834",
   "metadata": {},
   "outputs": [],
   "source": [
    "mod = mb.get_model('first_model')"
   ]
  },
  {
   "cell_type": "code",
   "execution_count": 54,
   "id": "f1971793",
   "metadata": {},
   "outputs": [
    {
     "name": "stderr",
     "output_type": "stream",
     "text": [
      "/Users/g/miniconda3/envs/nlp/lib/python3.11/site-packages/sklearn/utils/validation.py:2739: UserWarning: X does not have valid feature names, but LogisticRegression was fitted with feature names\n",
      "  warnings.warn(\n"
     ]
    },
    {
     "data": {
      "text/plain": [
       "0"
      ]
     },
     "execution_count": 54,
     "metadata": {},
     "output_type": "execute_result"
    }
   ],
   "source": [
    "mod.predict([[10,10000]])[0]"
   ]
  },
  {
   "cell_type": "code",
   "execution_count": null,
   "id": "b78772ea",
   "metadata": {},
   "outputs": [],
   "source": []
  }
 ],
 "metadata": {
  "kernelspec": {
   "display_name": "nlp",
   "language": "python",
   "name": "python3"
  },
  "language_info": {
   "codemirror_mode": {
    "name": "ipython",
    "version": 3
   },
   "file_extension": ".py",
   "mimetype": "text/x-python",
   "name": "python",
   "nbconvert_exporter": "python",
   "pygments_lexer": "ipython3",
   "version": "3.11.11"
  }
 },
 "nbformat": 4,
 "nbformat_minor": 5
}
